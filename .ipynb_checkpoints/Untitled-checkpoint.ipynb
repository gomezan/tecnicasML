{
 "cells": [
  {
   "cell_type": "markdown",
   "id": "39c0a0cd-5b99-447d-b6f7-90ede02cf652",
   "metadata": {},
   "source": [
    "## Mi primer notebook"
   ]
  },
  {
   "cell_type": "markdown",
   "id": "def728dd-79e6-4e4b-a374-d370c1737cb6",
   "metadata": {},
   "source": [
    "# Mi primer notebook"
   ]
  },
  {
   "cell_type": "code",
   "execution_count": 1,
   "id": "95247e80-cb97-428d-bdb2-455051204f52",
   "metadata": {},
   "outputs": [
    {
     "name": "stdout",
     "output_type": "stream",
     "text": [
      "hola mundo\n"
     ]
    }
   ],
   "source": [
    "print(\"hola mundo\")"
   ]
  }
 ],
 "metadata": {
  "kernelspec": {
   "display_name": "Python 3",
   "language": "python",
   "name": "python3"
  },
  "language_info": {
   "codemirror_mode": {
    "name": "ipython",
    "version": 3
   },
   "file_extension": ".py",
   "mimetype": "text/x-python",
   "name": "python",
   "nbconvert_exporter": "python",
   "pygments_lexer": "ipython3",
   "version": "3.8.8"
  }
 },
 "nbformat": 4,
 "nbformat_minor": 5
}
